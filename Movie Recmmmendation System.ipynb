{
 "cells": [
  {
   "cell_type": "code",
   "execution_count": null,
   "id": "aa328123",
   "metadata": {},
   "outputs": [
    {
     "name": "stderr",
     "output_type": "stream",
     "text": [
      "WARNING: Movies & Credits Data loaded successfully!\n",
      "WARNING: Data cleaned and merged!\n",
      "WARNING: Tags created and cleaned!\n",
      "WARNING: Similarity matrix computed!\n"
     ]
    },
    {
     "name": "stdout",
     "output_type": "stream",
     "text": [
      "\n",
      "Top 5 movies similar to 'Avatar':\n",
      "\n",
      "Titan A.E.\n",
      "Independence Day\n",
      "Aliens vs Predator: Requiem\n",
      "Small Soldiers\n",
      "Battle: Los Angeles\n",
      "\n",
      "Top 5 movies similar to 'Batman v Superman: Dawn of Justice':\n",
      "\n",
      "Man of Steel\n",
      "Batman Begins\n",
      "Batman\n",
      "Teenage Mutant Ninja Turtles\n",
      "Defendor\n"
     ]
    }
   ],
   "source": [
    "# save_data.py\n",
    "import pandas as pd\n",
    "import logging\n",
    "import ast\n",
    "import yaml\n",
    "import pickle\n",
    "from pathlib import Path\n",
    "from sklearn.feature_extraction.text import CountVectorizer\n",
    "from sklearn.metrics.pairwise import cosine_similarity\n",
    "\n",
    "# ---------- 1. Load context ----------\n",
    "with open(\"config.yaml\", \"r\", encoding=\"utf-8\") as f:\n",
    "    cfg = yaml.safe_load(f)\n",
    "\n",
    "DATA_DIR   = Path(cfg[\"data_dir\"])\n",
    "MOVIES_CSV = DATA_DIR / cfg[\"movies_file\"]\n",
    "CREDITS_CSV = DATA_DIR / cfg[\"credits_file\"]\n",
    "\n",
    "# ---------- 2. Logging ----------\n",
    "logging.basicConfig(\n",
    "    level=logging.INFO,\n",
    "    format=\"%(levelname)s: %(message)s\"\n",
    ")\n",
    "\n",
    "# ---------- 3. Load & merge ----------\n",
    "movies  = pd.read_csv(MOVIES_CSV)\n",
    "credits = pd.read_csv(CREDITS_CSV)\n",
    "logging.warning(\"Movies & Credits CSV loaded\")\n",
    "\n",
    "movies = movies.merge(credits, on=\"title\")\n",
    "movies = movies[[\"id\", \"title\", \"overview\", \"genres\", \"keywords\", \"cast\", \"crew\"]]\n",
    "movies = movies.dropna()\n",
    "logging.warning(\"Merged & cleaned\")\n",
    "\n",
    "# ---------- 4. Helper parsers ----------\n",
    "def convert(text):          return [i[\"name\"] for i in ast.literal_eval(text)]\n",
    "def convert_cast(text):     return [i[\"name\"] for i in ast.literal_eval(text)[:5]]\n",
    "def get_director(text):     return [i[\"name\"] for i in ast.literal_eval(text) if i[\"job\"] == \"Director\"]\n",
    "def clean_names(lst):       return [i.replace(\" \", \"\") for i in lst]\n",
    "\n",
    "# ---------- 5. Build tags ----------\n",
    "movies[\"genres\"]   = movies[\"genres\"].apply(convert).apply(clean_names)\n",
    "movies[\"keywords\"] = movies[\"keywords\"].apply(convert).apply(clean_names)\n",
    "movies[\"cast\"]     = movies[\"cast\"].apply(convert_cast).apply(clean_names)\n",
    "movies[\"crew\"]     = movies[\"crew\"].apply(get_director).apply(clean_names)\n",
    "movies[\"overview\"] = movies[\"overview\"].apply(lambda x: x.split())\n",
    "\n",
    "movies[\"tags\"] = (\n",
    "    movies[\"overview\"] + movies[\"genres\"] + movies[\"keywords\"] +\n",
    "    movies[\"cast\"] + movies[\"crew\"]\n",
    ")\n",
    "movies[\"tags\"] = movies[\"tags\"].apply(lambda x: \" \".join(x))\n",
    "\n",
    "new = movies[[\"id\", \"title\", \"tags\"]].copy()\n",
    "new.loc[:, \"tags\"] = new[\"tags\"].apply(lambda x: x.lower())\n",
    "logging.warning(\"Tags built\")\n",
    "\n",
    "# ---------- 6. Vectorise ----------\n",
    "cv = CountVectorizer(max_features=5000, stop_words=\"english\")\n",
    "vector = cv.fit_transform(new[\"tags\"]).toarray()\n",
    "similarity = cosine_similarity(vector)\n",
    "logging.warning(\"Similarity matrix ready\")\n",
    "\n",
    "# ---------- 7. Persist ----------\n",
    "pickle.dump(new,        open(\"movies_ta.pkl\",    \"wb\"))\n",
    "pickle.dump(similarity, open(\"similarity_ta.pkl\",\"wb\"))\n",
    "logging.warning(\"Pickles saved → movies_ta.pkl  &  similarity_ta.pkl\")"
   ]
  },
  {
   "cell_type": "code",
   "execution_count": 3,
   "id": "ed1238cd",
   "metadata": {},
   "outputs": [],
   "source": [
    "import pickle\n",
    "pickle.dump(new, open(\"movies_ta.pkl\", \"wb\"))\n",
    "pickle.dump(similarity, open(\"similarity_ta.pkl\", \"wb\"))"
   ]
  }
 ],
 "metadata": {
  "kernelspec": {
   "display_name": "Python 3",
   "language": "python",
   "name": "python3"
  },
  "language_info": {
   "codemirror_mode": {
    "name": "ipython",
    "version": 3
   },
   "file_extension": ".py",
   "mimetype": "text/x-python",
   "name": "python",
   "nbconvert_exporter": "python",
   "pygments_lexer": "ipython3",
   "version": "3.11.0"
  }
 },
 "nbformat": 4,
 "nbformat_minor": 5
}
